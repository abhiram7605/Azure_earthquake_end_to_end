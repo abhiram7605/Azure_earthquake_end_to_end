{
 "cells": [
  {
   "cell_type": "code",
   "execution_count": 0,
   "metadata": {
    "application/vnd.databricks.v1+cell": {
     "cellMetadata": {
      "byteLimit": 2048000,
      "rowLimit": 10000
     },
     "inputWidgets": {},
     "nuid": "b3259e68-1443-4f48-acd0-34661f394539",
     "showTitle": false,
     "tableResultSettingsMap": {},
     "title": ""
    }
   },
   "outputs": [],
   "source": [
    "from datetime import date, timedelta \n",
    "\n",
    "start_date = date.today() - timedelta(1)\n",
    "\n",
    "bronze_adls = \"abfss://bronze@earthquendtoend.dfs.core.windows.net/\"\n",
    "silver_adls = \"abfss://silver@earthquendtoend.dfs.core.windows.net/\""
   ]
  },
  {
   "cell_type": "code",
   "execution_count": 0,
   "metadata": {
    "application/vnd.databricks.v1+cell": {
     "cellMetadata": {
      "byteLimit": 2048000,
      "rowLimit": 10000
     },
     "inputWidgets": {},
     "nuid": "83fa6159-87f0-406a-8dfd-1bd2867025e2",
     "showTitle": false,
     "tableResultSettingsMap": {},
     "title": ""
    }
   },
   "outputs": [],
   "source": [
    "from pyspark.sql.functions import col, isnull, when\n",
    "from pyspark.sql.types import TimestampType\n",
    "from datetime import date, timedelta"
   ]
  },
  {
   "cell_type": "code",
   "execution_count": 0,
   "metadata": {
    "application/vnd.databricks.v1+cell": {
     "cellMetadata": {
      "byteLimit": 2048000,
      "rowLimit": 10000
     },
     "inputWidgets": {},
     "nuid": "ab8b0f77-1e2a-46d2-b410-501bb2d284e7",
     "showTitle": false,
     "tableResultSettingsMap": {},
     "title": ""
    }
   },
   "outputs": [],
   "source": [
    "df = spark.read.option(\"multiline\", \"true\").json(f\"{bronze_adls}{start_date}_earthquake_data.json\")"
   ]
  },
  {
   "cell_type": "code",
   "execution_count": 0,
   "metadata": {
    "application/vnd.databricks.v1+cell": {
     "cellMetadata": {
      "byteLimit": 2048000,
      "rowLimit": 10000
     },
     "inputWidgets": {},
     "nuid": "b1073a39-d297-48db-b90c-045b0ea4129a",
     "showTitle": false,
     "tableResultSettingsMap": {},
     "title": ""
    }
   },
   "outputs": [
    {
     "output_type": "stream",
     "name": "stdout",
     "output_type": "stream",
     "text": [
      "+--------------------+-----------+--------------------+-------+\n|            geometry|         id|          properties|   type|\n+--------------------+-----------+--------------------+-------+\n|{[-122.7779998779...| nc75112231|{NULL, NULL, 7511...|Feature|\n|{[-116.447, 33.40...| ci40832719|{NULL, NULL, 4083...|Feature|\n|{[-104.41, 31.672...| tx2025adqo|{NULL, NULL, 2025...|Feature|\n|{[-122.7965011596...| nc75112226|{NULL, NULL, 7511...|Feature|\n|{[-115.641, 32.77...| ci40832703|{NULL, NULL, 4083...|Feature|\n|{[-119.0397, 39.1...| nn00891271|{NULL, NULL, 0089...|Feature|\n|{[-113.9913333333...| mb90070088|{NULL, NULL, 9007...|Feature|\n|{[-117.2013333, 3...| ci40832687|{NULL, NULL, 4083...|Feature|\n|{[-149.6224, 61.5...|ak0253otega|{NULL, NULL, 0253...|Feature|\n|{[-119.0681, 39.1...| nn00891268|{NULL, NULL, 0089...|Feature|\n+--------------------+-----------+--------------------+-------+\nonly showing top 10 rows\n\n"
     ]
    }
   ],
   "source": [
    "df.show(10)"
   ]
  },
  {
   "cell_type": "code",
   "execution_count": 0,
   "metadata": {
    "application/vnd.databricks.v1+cell": {
     "cellMetadata": {
      "byteLimit": 2048000,
      "rowLimit": 10000
     },
     "inputWidgets": {},
     "nuid": "407a87f4-fdd6-4709-a734-88fb87152cb0",
     "showTitle": false,
     "tableResultSettingsMap": {},
     "title": ""
    }
   },
   "outputs": [
    {
     "output_type": "execute_result",
     "data": {
      "text/plain": [
       "[Row(geometry=Row(coordinates=[-122.77799987793, 38.7946662902832, 2.32999992370605], type='Point'), id='nc75112231', properties=Row(alert=None, cdi=None, code='75112231', detail='https://earthquake.usgs.gov/fdsnws/event/1/query?eventid=nc75112231&format=geojson', dmin=0.007892, felt=None, gap=94.0, ids=',nc75112231,', mag=0.71, magType='md', mmi=None, net='nc', nst=8, place='3 km NNW of The Geysers, CA', rms=0.02, sig=8, sources=',nc,', status='automatic', time=1735861788680, title='M 0.7 - 3 km NNW of The Geysers, CA', tsunami=0, type='earthquake', types=',nearby-cities,origin,phase-data,', tz=None, updated=1735861884219, url='https://earthquake.usgs.gov/earthquakes/eventpage/nc75112231'), type='Feature')]"
      ]
     },
     "execution_count": 5,
     "metadata": {},
     "output_type": "execute_result"
    }
   ],
   "source": [
    "df.head(1)"
   ]
  },
  {
   "cell_type": "code",
   "execution_count": 0,
   "metadata": {
    "application/vnd.databricks.v1+cell": {
     "cellMetadata": {
      "byteLimit": 2048000,
      "rowLimit": 10000
     },
     "inputWidgets": {},
     "nuid": "f4468f2f-7799-458f-92cf-f7ad48aa8960",
     "showTitle": false,
     "tableResultSettingsMap": {},
     "title": ""
    }
   },
   "outputs": [],
   "source": [
    "df_1 = (df.select('geometry.coordinates', 'id', 'properties.mag', 'type'))"
   ]
  },
  {
   "cell_type": "code",
   "execution_count": 0,
   "metadata": {
    "application/vnd.databricks.v1+cell": {
     "cellMetadata": {
      "byteLimit": 2048000,
      "rowLimit": 10000
     },
     "inputWidgets": {},
     "nuid": "620b041b-f44e-4b35-b9e0-d6a04bda51c4",
     "showTitle": false,
     "tableResultSettingsMap": {},
     "title": ""
    }
   },
   "outputs": [
    {
     "output_type": "stream",
     "name": "stdout",
     "output_type": "stream",
     "text": [
      "+--------------------+-----------+-----+-------+\n|         coordinates|         id|  mag|   type|\n+--------------------+-----------+-----+-------+\n|[-122.77799987793...| nc75112231| 0.71|Feature|\n|[-116.447, 33.407...| ci40832719| 1.19|Feature|\n|[-104.41, 31.672,...| tx2025adqo|  1.3|Feature|\n|[-122.79650115966...| nc75112226| 1.04|Feature|\n|[-115.641, 32.775...| ci40832703|  1.3|Feature|\n|[-119.0397, 39.10...| nn00891271|  1.9|Feature|\n|[-113.99133333333...| mb90070088|-0.12|Feature|\n|[-117.2013333, 33...| ci40832687| 1.15|Feature|\n|[-149.6224, 61.55...|ak0253otega|  1.4|Feature|\n|[-119.0681, 39.15...| nn00891268|  1.5|Feature|\n+--------------------+-----------+-----+-------+\nonly showing top 10 rows\n\n"
     ]
    }
   ],
   "source": [
    "df_1.show(10)"
   ]
  },
  {
   "cell_type": "code",
   "execution_count": 0,
   "metadata": {
    "application/vnd.databricks.v1+cell": {
     "cellMetadata": {
      "byteLimit": 2048000,
      "rowLimit": 10000
     },
     "inputWidgets": {},
     "nuid": "b7cf1b3b-98e2-4d54-8055-d62090abf8c9",
     "showTitle": false,
     "tableResultSettingsMap": {},
     "title": ""
    }
   },
   "outputs": [],
   "source": [
    "df = df.select(\n",
    "    \"id\",\n",
    "    col(\"geometry.coordinates\").getItem(0).alias(\"longitude\"),\n",
    "    col(\"geometry.coordinates\").getItem(1).alias(\"latitude\"),\n",
    "    col(\"geometry.coordinates\").getItem(2).alias(\"elevation\"),\n",
    "    col(\"properties.title\").alias(\"title\"),\n",
    "    col(\"properties.place\").alias(\"place_description\"),\n",
    "    col(\"properties.mag\").alias(\"magnitude\"),\n",
    "    col(\"properties.magtype\").alias(\"magtype\"),\n",
    "    col(\"properties.sig\").alias(\"sig\"),\n",
    "    col(\"properties.time\").alias(\"time\"),\n",
    "    col(\"properties.updated\").alias(\"updated\"),\n",
    "\n",
    ")"
   ]
  },
  {
   "cell_type": "code",
   "execution_count": 0,
   "metadata": {
    "application/vnd.databricks.v1+cell": {
     "cellMetadata": {
      "byteLimit": 2048000,
      "rowLimit": 10000
     },
     "inputWidgets": {},
     "nuid": "0a95027f-4309-4879-813f-b0692a40d3c5",
     "showTitle": false,
     "tableResultSettingsMap": {},
     "title": ""
    }
   },
   "outputs": [
    {
     "output_type": "stream",
     "name": "stdout",
     "output_type": "stream",
     "text": [
      "+-----------+-----------------+----------------+----------------+--------------------+--------------------+---------+-------+---+-------------+-------------+\n|         id|        longitude|        latitude|       elevation|               title|   place_description|magnitude|magtype|sig|         time|      updated|\n+-----------+-----------------+----------------+----------------+--------------------+--------------------+---------+-------+---+-------------+-------------+\n| nc75112231| -122.77799987793|38.7946662902832|2.32999992370605|M 0.7 - 3 km NNW ...|3 km NNW of The G...|     0.71|     md|  8|1735861788680|1735861884219|\n| ci40832719|         -116.447|         33.4075|            13.5|M 1.2 - 18 km NNW...|18 km NNW of Borr...|     1.19|     ml| 22|1735861781400|1735862422970|\n| tx2025adqo|          -104.41|          31.672|          6.4331|M 1.3 - 55 km S o...|55 km S of Whites...|      1.3|     ml| 26|1735861614507|1735919031283|\n| nc75112226|-122.796501159668|38.8325004577637|            2.25|M 1.0 - 6 km WNW ...|6 km WNW of Cobb, CA|     1.04|     md| 17|1735861375770|1735861474427|\n| ci40832703|         -115.641|      32.7751667|            9.52|M 1.3 - 8 km W of...|8 km W of El Cent...|      1.3|     ml| 26|1735860478310|1735860684554|\n| nn00891271|        -119.0397|         39.1091|             3.7|M 1.9 - 17 km NE ...|17 km NE of Yerin...|      1.9|     ml| 56|1735860380515|1735869995981|\n| mb90070088|-113.991333333333|47.5633333333333|            5.02|M -0.1 - 9 km ENE...|9 km ENE of Ronan...|    -0.12|     ml|  0|1735859833200|1735921818160|\n| ci40832687|     -117.2013333|      33.9373333|           12.33|M 1.2 - 3 km ENE ...|3 km ENE of Moren...|     1.15|     ml| 20|1735859706260|1735859943971|\n|ak0253otega|        -149.6224|         61.5585|            31.9|M 1.4 - 5 km NNW ...|5 km NNW of Knik-...|      1.4|     ml| 30|1735859290662|1735859363659|\n| nn00891268|        -119.0681|         39.1553|             3.7|M 1.5 - 20 km NNE...|20 km NNE of Yeri...|      1.5|     ml| 35|1735859254343|1735914726003|\n+-----------+-----------------+----------------+----------------+--------------------+--------------------+---------+-------+---+-------------+-------------+\nonly showing top 10 rows\n\n"
     ]
    }
   ],
   "source": [
    "df.show(10)"
   ]
  },
  {
   "cell_type": "code",
   "execution_count": 0,
   "metadata": {
    "application/vnd.databricks.v1+cell": {
     "cellMetadata": {
      "byteLimit": 2048000,
      "rowLimit": 10000
     },
     "inputWidgets": {},
     "nuid": "900377b1-1177-4657-bb14-db77bf748b00",
     "showTitle": false,
     "tableResultSettingsMap": {},
     "title": ""
    }
   },
   "outputs": [],
   "source": [
    "df = ( df\n",
    "      .withColumn(\"longitude\", when(isnull(col(\"longitude\")), 0).otherwise(col(\"longitude\")))\n",
    "      .withColumn(\"latitude\", when(isnull(col(\"latitude\")), 0).otherwise(col(\"latitude\")))\n",
    "      .withColumn(\"time\", when(isnull(col(\"time\")), 0).otherwise(col(\"time\")))\n",
    ")"
   ]
  },
  {
   "cell_type": "code",
   "execution_count": 0,
   "metadata": {
    "application/vnd.databricks.v1+cell": {
     "cellMetadata": {
      "byteLimit": 2048000,
      "rowLimit": 10000
     },
     "inputWidgets": {},
     "nuid": "dd879c1a-4ce0-495e-97c0-cbddca0d5e70",
     "showTitle": false,
     "tableResultSettingsMap": {},
     "title": ""
    }
   },
   "outputs": [],
   "source": [
    "df = (df\n",
    "      .withColumn(\"time\", (col(\"time\")/1000).cast(TimestampType()))\n",
    "      .withColumn(\"updated\", (col(\"updated\")/1000).cast(TimestampType()))\n",
    ")"
   ]
  },
  {
   "cell_type": "code",
   "execution_count": 0,
   "metadata": {
    "application/vnd.databricks.v1+cell": {
     "cellMetadata": {
      "byteLimit": 2048000,
      "rowLimit": 10000
     },
     "inputWidgets": {},
     "nuid": "114a778b-67fd-4012-9086-a4c3ad45b745",
     "showTitle": false,
     "tableResultSettingsMap": {},
     "title": ""
    }
   },
   "outputs": [
    {
     "output_type": "stream",
     "name": "stdout",
     "output_type": "stream",
     "text": [
      "+-----------+-----------------+----------------+----------------+--------------------+--------------------+---------+-------+---+--------------------+--------------------+\n|         id|        longitude|        latitude|       elevation|               title|   place_description|magnitude|magtype|sig|                time|             updated|\n+-----------+-----------------+----------------+----------------+--------------------+--------------------+---------+-------+---+--------------------+--------------------+\n| nc75112231| -122.77799987793|38.7946662902832|2.32999992370605|M 0.7 - 3 km NNW ...|3 km NNW of The G...|     0.71|     md|  8|2025-01-02 23:49:...|2025-01-02 23:51:...|\n| ci40832719|         -116.447|         33.4075|            13.5|M 1.2 - 18 km NNW...|18 km NNW of Borr...|     1.19|     ml| 22|2025-01-02 23:49:...|2025-01-03 00:00:...|\n| tx2025adqo|          -104.41|          31.672|          6.4331|M 1.3 - 55 km S o...|55 km S of Whites...|      1.3|     ml| 26|2025-01-02 23:46:...|2025-01-03 15:43:...|\n| nc75112226|-122.796501159668|38.8325004577637|            2.25|M 1.0 - 6 km WNW ...|6 km WNW of Cobb, CA|     1.04|     md| 17|2025-01-02 23:42:...|2025-01-02 23:44:...|\n| ci40832703|         -115.641|      32.7751667|            9.52|M 1.3 - 8 km W of...|8 km W of El Cent...|      1.3|     ml| 26|2025-01-02 23:27:...|2025-01-02 23:31:...|\n| nn00891271|        -119.0397|         39.1091|             3.7|M 1.9 - 17 km NE ...|17 km NE of Yerin...|      1.9|     ml| 56|2025-01-02 23:26:...|2025-01-03 02:06:...|\n| mb90070088|-113.991333333333|47.5633333333333|            5.02|M -0.1 - 9 km ENE...|9 km ENE of Ronan...|    -0.12|     ml|  0|2025-01-02 23:17:...|2025-01-03 16:30:...|\n| ci40832687|     -117.2013333|      33.9373333|           12.33|M 1.2 - 3 km ENE ...|3 km ENE of Moren...|     1.15|     ml| 20|2025-01-02 23:15:...|2025-01-02 23:19:...|\n|ak0253otega|        -149.6224|         61.5585|            31.9|M 1.4 - 5 km NNW ...|5 km NNW of Knik-...|      1.4|     ml| 30|2025-01-02 23:08:...|2025-01-02 23:09:...|\n| nn00891268|        -119.0681|         39.1553|             3.7|M 1.5 - 20 km NNE...|20 km NNE of Yeri...|      1.5|     ml| 35|2025-01-02 23:07:...|2025-01-03 14:32:...|\n+-----------+-----------------+----------------+----------------+--------------------+--------------------+---------+-------+---+--------------------+--------------------+\nonly showing top 10 rows\n\n"
     ]
    }
   ],
   "source": [
    "df.show(10)"
   ]
  },
  {
   "cell_type": "code",
   "execution_count": 0,
   "metadata": {
    "application/vnd.databricks.v1+cell": {
     "cellMetadata": {
      "byteLimit": 2048000,
      "rowLimit": 10000
     },
     "inputWidgets": {},
     "nuid": "b1915dac-cb04-4b37-96a1-1bcb5cd8fec9",
     "showTitle": false,
     "tableResultSettingsMap": {},
     "title": ""
    }
   },
   "outputs": [],
   "source": [
    "#store the data frame into silver container\n",
    "silvel_output_path = f\"{silver_adls}earthquake_events_silver/\""
   ]
  },
  {
   "cell_type": "code",
   "execution_count": 0,
   "metadata": {
    "application/vnd.databricks.v1+cell": {
     "cellMetadata": {
      "byteLimit": 2048000,
      "rowLimit": 10000
     },
     "inputWidgets": {},
     "nuid": "25638f21-4319-4088-9e6f-055b2622730a",
     "showTitle": false,
     "tableResultSettingsMap": {},
     "title": ""
    }
   },
   "outputs": [],
   "source": [
    "# We are append the df in to the parquet file, every date the new data will be appended to the parquet file.\n",
    "df.write.mode(\"append\").parquet(silvel_output_path)"
   ]
  }
 ],
 "metadata": {
  "application/vnd.databricks.v1+notebook": {
   "computePreferences": null,
   "dashboards": [],
   "environmentMetadata": {
    "base_environment": "",
    "client": "1"
   },
   "language": "python",
   "notebookMetadata": {
    "pythonIndentUnit": 4
   },
   "notebookName": "Silver Notebook",
   "widgets": {}
  },
  "language_info": {
   "name": "python"
  }
 },
 "nbformat": 4,
 "nbformat_minor": 0
}
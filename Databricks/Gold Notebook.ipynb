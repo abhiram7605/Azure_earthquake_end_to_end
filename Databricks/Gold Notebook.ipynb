{
 "cells": [
  {
   "cell_type": "code",
   "execution_count": 0,
   "metadata": {
    "application/vnd.databricks.v1+cell": {
     "cellMetadata": {
      "byteLimit": 2048000,
      "rowLimit": 10000
     },
     "inputWidgets": {},
     "nuid": "0fec62d2-3f8c-43a6-8958-5d3daa8a1f19",
     "showTitle": false,
     "tableResultSettingsMap": {},
     "title": ""
    }
   },
   "outputs": [],
   "source": [
    "from datetime import date, timedelta\n",
    "\n",
    "silver_adls= \"abfss://silver@earthquendtoend.dfs.core.windows.net/\"\n",
    "gold_adls= \"abfss://gold@earthquendtoend.dfs.core.windows.net/\"\n",
    "\n",
    "silver_data= f\"{silver_adls}earthquake_events_silver/\""
   ]
  },
  {
   "cell_type": "code",
   "execution_count": 0,
   "metadata": {
    "application/vnd.databricks.v1+cell": {
     "cellMetadata": {
      "byteLimit": 2048000,
      "rowLimit": 10000
     },
     "inputWidgets": {},
     "nuid": "8b576a5e-dc4f-4432-81c5-ae3bd4bfbfca",
     "showTitle": false,
     "tableResultSettingsMap": {},
     "title": ""
    }
   },
   "outputs": [],
   "source": [
    "from pyspark.sql.functions import col, when, udf\n",
    "from pyspark.sql.types import StringType\n",
    "from datetime import date, timedelta\n",
    "import reverse_geocoder as rg"
   ]
  },
  {
   "cell_type": "code",
   "execution_count": 0,
   "metadata": {
    "application/vnd.databricks.v1+cell": {
     "cellMetadata": {
      "byteLimit": 2048000,
      "rowLimit": 10000
     },
     "inputWidgets": {},
     "nuid": "507b0aef-eb9f-4978-a47c-d7d059add57e",
     "showTitle": false,
     "tableResultSettingsMap": {},
     "title": ""
    }
   },
   "outputs": [],
   "source": [
    "start_date = date.today()-timedelta(1)\n",
    "df = spark.read.parquet(silver_data).filter(col(\"time\")> start_date)"
   ]
  },
  {
   "cell_type": "code",
   "execution_count": 0,
   "metadata": {
    "application/vnd.databricks.v1+cell": {
     "cellMetadata": {
      "byteLimit": 2048000,
      "rowLimit": 10000
     },
     "inputWidgets": {},
     "nuid": "ff1ababc-d9b6-4ab3-bd1f-3439defb271e",
     "showTitle": false,
     "tableResultSettingsMap": {},
     "title": ""
    }
   },
   "outputs": [
    {
     "output_type": "stream",
     "name": "stdout",
     "output_type": "stream",
     "text": [
      "+-----------+-----------------+----------------+----------------+--------------------+--------------------+---------+-------+---+--------------------+--------------------+\n|         id|        longitude|        latitude|       elevation|               title|   place_description|magnitude|magtype|sig|                time|             updated|\n+-----------+-----------------+----------------+----------------+--------------------+--------------------+---------+-------+---+--------------------+--------------------+\n| nc75112231| -122.77799987793|38.7946662902832|2.32999992370605|M 0.7 - 3 km NNW ...|3 km NNW of The G...|     0.71|     md|  8|2025-01-02 23:49:...|2025-01-02 23:51:...|\n| ci40832719|         -116.447|         33.4075|            13.5|M 1.2 - 18 km NNW...|18 km NNW of Borr...|     1.19|     ml| 22|2025-01-02 23:49:...|2025-01-03 00:00:...|\n| tx2025adqo|          -104.41|          31.672|          6.4331|M 1.3 - 55 km S o...|55 km S of Whites...|      1.3|     ml| 26|2025-01-02 23:46:...|2025-01-03 15:43:...|\n| nc75112226|-122.796501159668|38.8325004577637|            2.25|M 1.0 - 6 km WNW ...|6 km WNW of Cobb, CA|     1.04|     md| 17|2025-01-02 23:42:...|2025-01-02 23:44:...|\n| ci40832703|         -115.641|      32.7751667|            9.52|M 1.3 - 8 km W of...|8 km W of El Cent...|      1.3|     ml| 26|2025-01-02 23:27:...|2025-01-02 23:31:...|\n| nn00891271|        -119.0397|         39.1091|             3.7|M 1.9 - 17 km NE ...|17 km NE of Yerin...|      1.9|     ml| 56|2025-01-02 23:26:...|2025-01-03 02:06:...|\n| mb90070088|-113.991333333333|47.5633333333333|            5.02|M -0.1 - 9 km ENE...|9 km ENE of Ronan...|    -0.12|     ml|  0|2025-01-02 23:17:...|2025-01-03 16:30:...|\n| ci40832687|     -117.2013333|      33.9373333|           12.33|M 1.2 - 3 km ENE ...|3 km ENE of Moren...|     1.15|     ml| 20|2025-01-02 23:15:...|2025-01-02 23:19:...|\n|ak0253otega|        -149.6224|         61.5585|            31.9|M 1.4 - 5 km NNW ...|5 km NNW of Knik-...|      1.4|     ml| 30|2025-01-02 23:08:...|2025-01-02 23:09:...|\n| nn00891268|        -119.0681|         39.1553|             3.7|M 1.5 - 20 km NNE...|20 km NNE of Yeri...|      1.5|     ml| 35|2025-01-02 23:07:...|2025-01-03 14:32:...|\n+-----------+-----------------+----------------+----------------+--------------------+--------------------+---------+-------+---+--------------------+--------------------+\nonly showing top 10 rows\n\n"
     ]
    }
   ],
   "source": [
    "df.show(10)"
   ]
  },
  {
   "cell_type": "code",
   "execution_count": 0,
   "metadata": {
    "application/vnd.databricks.v1+cell": {
     "cellMetadata": {
      "byteLimit": 2048000,
      "rowLimit": 10000
     },
     "inputWidgets": {},
     "nuid": "78fff47b-3f76-45bc-992d-89a014142c65",
     "showTitle": false,
     "tableResultSettingsMap": {},
     "title": ""
    }
   },
   "outputs": [],
   "source": [
    "df= df.limit(300)"
   ]
  },
  {
   "cell_type": "code",
   "execution_count": 0,
   "metadata": {
    "application/vnd.databricks.v1+cell": {
     "cellMetadata": {
      "byteLimit": 2048000,
      "rowLimit": 10000
     },
     "inputWidgets": {},
     "nuid": "93bc2074-c5d3-48d0-a097-181426d6cc17",
     "showTitle": false,
     "tableResultSettingsMap": {},
     "title": ""
    }
   },
   "outputs": [],
   "source": [
    "def getcountrycode(lat, long):\n",
    "\n",
    "    try:\n",
    "        coordinates = (float(lat), float(long))\n",
    "        result = rg.search(coordinates)[0].get('cc')\n",
    "        return result\n",
    "    except Exception as e:\n",
    "        print(\"error processing {lat}, {long} - {e}\")\n",
    "        return None"
   ]
  },
  {
   "cell_type": "code",
   "execution_count": 0,
   "metadata": {
    "application/vnd.databricks.v1+cell": {
     "cellMetadata": {
      "byteLimit": 2048000,
      "rowLimit": 10000
     },
     "inputWidgets": {},
     "nuid": "04a5abdc-566d-49ce-be51-d8082a41dd57",
     "showTitle": false,
     "tableResultSettingsMap": {},
     "title": ""
    }
   },
   "outputs": [],
   "source": [
    "get_country_code_udf = udf(getcountrycode, StringType())"
   ]
  },
  {
   "cell_type": "code",
   "execution_count": 0,
   "metadata": {
    "application/vnd.databricks.v1+cell": {
     "cellMetadata": {
      "byteLimit": 2048000,
      "rowLimit": 10000
     },
     "inputWidgets": {},
     "nuid": "e3a47aba-4d72-4e08-a9aa-8747ecdc8ac8",
     "showTitle": false,
     "tableResultSettingsMap": {},
     "title": ""
    }
   },
   "outputs": [],
   "source": [
    "df_with_location = df. withColumn(\"country_code\", get_country_code_udf(col(\"latitude\"), col(\"longitude\")))"
   ]
  },
  {
   "cell_type": "code",
   "execution_count": 0,
   "metadata": {
    "application/vnd.databricks.v1+cell": {
     "cellMetadata": {
      "byteLimit": 2048000,
      "rowLimit": 10000
     },
     "inputWidgets": {},
     "nuid": "910318ba-9b1a-4570-bb4a-ae1db4f21cc1",
     "showTitle": false,
     "tableResultSettingsMap": {},
     "title": ""
    }
   },
   "outputs": [
    {
     "output_type": "stream",
     "name": "stdout",
     "output_type": "stream",
     "text": [
      "root\n |-- id: string (nullable = true)\n |-- longitude: double (nullable = true)\n |-- latitude: double (nullable = true)\n |-- elevation: double (nullable = true)\n |-- title: string (nullable = true)\n |-- place_description: string (nullable = true)\n |-- magnitude: double (nullable = true)\n |-- magtype: string (nullable = true)\n |-- sig: long (nullable = true)\n |-- time: timestamp (nullable = true)\n |-- updated: timestamp (nullable = true)\n |-- country_code: string (nullable = true)\n\n"
     ]
    }
   ],
   "source": [
    "df_with_location.printSchema()"
   ]
  },
  {
   "cell_type": "code",
   "execution_count": 0,
   "metadata": {
    "application/vnd.databricks.v1+cell": {
     "cellMetadata": {
      "byteLimit": 2048000,
      "rowLimit": 10000
     },
     "inputWidgets": {},
     "nuid": "6ef3f536-a54c-4db4-8049-4f0d22bc4934",
     "showTitle": false,
     "tableResultSettingsMap": {},
     "title": ""
    }
   },
   "outputs": [],
   "source": [
    "df_with_location_sig_class = \\\n",
    "    df_with_location.\\\n",
    "        withColumn(\"sig_class\",\\\n",
    "                    when(col(\"sig\")< 100, \"Low\"). \\\n",
    "                    when((col('sig')>=100) & (col('sig')< 500), \"Moderate\").\\\n",
    "                    otherwise(\"High\")\n",
    "            )"
   ]
  },
  {
   "cell_type": "code",
   "execution_count": 0,
   "metadata": {
    "application/vnd.databricks.v1+cell": {
     "cellMetadata": {
      "byteLimit": 2048000,
      "rowLimit": 10000
     },
     "inputWidgets": {},
     "nuid": "38a0e7b1-210c-4ad7-897a-14e72d3ef0cb",
     "showTitle": false,
     "tableResultSettingsMap": {},
     "title": ""
    }
   },
   "outputs": [
    {
     "output_type": "stream",
     "name": "stdout",
     "output_type": "stream",
     "text": [
      "+----------+-----------------+----------------+----------------+--------------------+--------------------+---------+-------+---+--------------------+--------------------+------------+---------+\n|        id|        longitude|        latitude|       elevation|               title|   place_description|magnitude|magtype|sig|                time|             updated|country_code|sig_class|\n+----------+-----------------+----------------+----------------+--------------------+--------------------+---------+-------+---+--------------------+--------------------+------------+---------+\n|nc75112231| -122.77799987793|38.7946662902832|2.32999992370605|M 0.7 - 3 km NNW ...|3 km NNW of The G...|     0.71|     md|  8|2025-01-02 23:49:...|2025-01-02 23:51:...|          US|      Low|\n|ci40832719|         -116.447|         33.4075|            13.5|M 1.2 - 18 km NNW...|18 km NNW of Borr...|     1.19|     ml| 22|2025-01-02 23:49:...|2025-01-03 00:00:...|          US|      Low|\n|tx2025adqo|          -104.41|          31.672|          6.4331|M 1.3 - 55 km S o...|55 km S of Whites...|      1.3|     ml| 26|2025-01-02 23:46:...|2025-01-03 15:43:...|          US|      Low|\n|nc75112226|-122.796501159668|38.8325004577637|            2.25|M 1.0 - 6 km WNW ...|6 km WNW of Cobb, CA|     1.04|     md| 17|2025-01-02 23:42:...|2025-01-02 23:44:...|          US|      Low|\n+----------+-----------------+----------------+----------------+--------------------+--------------------+---------+-------+---+--------------------+--------------------+------------+---------+\nonly showing top 4 rows\n\n"
     ]
    }
   ],
   "source": [
    "df_with_location_sig_class.show(4)"
   ]
  },
  {
   "cell_type": "code",
   "execution_count": 0,
   "metadata": {
    "application/vnd.databricks.v1+cell": {
     "cellMetadata": {
      "byteLimit": 2048000,
      "rowLimit": 10000
     },
     "inputWidgets": {},
     "nuid": "95706d77-53f4-4bd8-b46d-54b40c9bb8e4",
     "showTitle": false,
     "tableResultSettingsMap": {},
     "title": ""
    }
   },
   "outputs": [
    {
     "output_type": "stream",
     "name": "stdout",
     "output_type": "stream",
     "text": [
      "root\n |-- id: string (nullable = true)\n |-- longitude: double (nullable = true)\n |-- latitude: double (nullable = true)\n |-- elevation: double (nullable = true)\n |-- title: string (nullable = true)\n |-- place_description: string (nullable = true)\n |-- magnitude: double (nullable = true)\n |-- magtype: string (nullable = true)\n |-- sig: long (nullable = true)\n |-- time: timestamp (nullable = true)\n |-- updated: timestamp (nullable = true)\n |-- country_code: string (nullable = true)\n |-- sig_class: string (nullable = false)\n\n"
     ]
    }
   ],
   "source": [
    "df_with_location_sig_class.printSchema()"
   ]
  },
  {
   "cell_type": "code",
   "execution_count": 0,
   "metadata": {
    "application/vnd.databricks.v1+cell": {
     "cellMetadata": {
      "byteLimit": 2048000,
      "rowLimit": 10000
     },
     "inputWidgets": {},
     "nuid": "8bd72a6b-dc80-46d5-9a1a-0ff8f49857d7",
     "showTitle": false,
     "tableResultSettingsMap": {},
     "title": ""
    }
   },
   "outputs": [],
   "source": [
    "gold_output_path= f\"{gold_adls}earthquake_events_gold/\""
   ]
  },
  {
   "cell_type": "code",
   "execution_count": 0,
   "metadata": {
    "application/vnd.databricks.v1+cell": {
     "cellMetadata": {
      "byteLimit": 2048000,
      "rowLimit": 10000
     },
     "inputWidgets": {},
     "nuid": "71479a98-d54f-4dd0-8e0c-60a10eed347f",
     "showTitle": false,
     "tableResultSettingsMap": {},
     "title": ""
    }
   },
   "outputs": [],
   "source": [
    "df_with_location_sig_class.write.mode(\"append\").parquet(gold_output_path)"
   ]
  }
 ],
 "metadata": {
  "application/vnd.databricks.v1+notebook": {
   "computePreferences": null,
   "dashboards": [],
   "environmentMetadata": {
    "base_environment": "",
    "client": "1"
   },
   "language": "python",
   "notebookMetadata": {
    "pythonIndentUnit": 4
   },
   "notebookName": "Gold Notebook",
   "widgets": {}
  },
  "language_info": {
   "name": "python"
  }
 },
 "nbformat": 4,
 "nbformat_minor": 0
}